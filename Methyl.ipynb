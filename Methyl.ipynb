{
 "cells": [
  {
   "cell_type": "code",
   "execution_count": 1,
   "id": "8b79da27",
   "metadata": {},
   "outputs": [
    {
     "name": "stderr",
     "output_type": "stream",
     "text": [
      "Updating HTML index of packages in '.Library'\n",
      "\n",
      "Making 'packages.html' ...\n",
      " done\n",
      "\n",
      "Updating HTML index of packages in '.Library'\n",
      "\n",
      "Making 'packages.html' ...\n",
      " done\n",
      "\n",
      "Updating HTML index of packages in '.Library'\n",
      "\n",
      "Making 'packages.html' ...\n",
      " done\n",
      "\n",
      "Updating HTML index of packages in '.Library'\n",
      "\n",
      "Making 'packages.html' ...\n",
      " done\n",
      "\n",
      "Updating HTML index of packages in '.Library'\n",
      "\n",
      "Making 'packages.html' ...\n",
      " done\n",
      "\n",
      "Updating HTML index of packages in '.Library'\n",
      "\n",
      "Making 'packages.html' ...\n",
      " done\n",
      "\n",
      "Updating HTML index of packages in '.Library'\n",
      "\n",
      "Making 'packages.html' ...\n",
      " done\n",
      "\n",
      "Updating HTML index of packages in '.Library'\n",
      "\n",
      "Making 'packages.html' ...\n",
      " done\n",
      "\n",
      "'getOption(\"repos\")' replaces Bioconductor standard repositories, see\n",
      "'?repositories' for details\n",
      "\n",
      "replacement repositories:\n",
      "    CRAN: https://cran.r-project.org\n",
      "\n",
      "\n",
      "Bioconductor version 3.12 (BiocManager 1.30.16), R 4.0.5 (2021-03-31)\n",
      "\n",
      "Warning message:\n",
      "“package(s) not installed when version(s) same as current; use `force = TRUE` to\n",
      "  re-install: 'GEOquery'”\n",
      "Old packages: 'class', 'fansi', 'foreign', 'MASS', 'nlme', 'nnet', 'Rcpp'\n",
      "\n",
      "'getOption(\"repos\")' replaces Bioconductor standard repositories, see\n",
      "'?repositories' for details\n",
      "\n",
      "replacement repositories:\n",
      "    CRAN: https://cran.r-project.org\n",
      "\n",
      "\n",
      "Bioconductor version 3.12 (BiocManager 1.30.16), R 4.0.5 (2021-03-31)\n",
      "\n",
      "Warning message:\n",
      "“package(s) not installed when version(s) same as current; use `force = TRUE` to\n",
      "  re-install: 'limma'”\n",
      "Old packages: 'class', 'fansi', 'foreign', 'MASS', 'nlme', 'nnet', 'Rcpp'\n",
      "\n",
      "'getOption(\"repos\")' replaces Bioconductor standard repositories, see\n",
      "'?repositories' for details\n",
      "\n",
      "replacement repositories:\n",
      "    CRAN: https://cran.r-project.org\n",
      "\n",
      "\n",
      "Bioconductor version 3.12 (BiocManager 1.30.16), R 4.0.5 (2021-03-31)\n",
      "\n",
      "Warning message:\n",
      "“package(s) not installed when version(s) same as current; use `force = TRUE` to\n",
      "  re-install: 'pheatmap'”\n",
      "Old packages: 'class', 'fansi', 'foreign', 'MASS', 'nlme', 'nnet', 'Rcpp'\n",
      "\n",
      "'getOption(\"repos\")' replaces Bioconductor standard repositories, see\n",
      "'?repositories' for details\n",
      "\n",
      "replacement repositories:\n",
      "    CRAN: https://cran.r-project.org\n",
      "\n",
      "\n",
      "Bioconductor version 3.12 (BiocManager 1.30.16), R 4.0.5 (2021-03-31)\n",
      "\n",
      "Warning message:\n",
      "“package(s) not installed when version(s) same as current; use `force = TRUE` to\n",
      "  re-install: 'org.Hs.eg.db'”\n",
      "Old packages: 'class', 'fansi', 'foreign', 'MASS', 'nlme', 'nnet', 'Rcpp'\n",
      "\n"
     ]
    }
   ],
   "source": [
    "install.packages(\"BiocManager\")\n",
    "install.packages(\"forcats\")\n",
    "install.packages(\"stringr\")\n",
    "install.packages(\"ggplot2\")\n",
    "install.packages(\"ggrepel\")\n",
    "install.packages(\"readr\")\n",
    "install.packages(\"tidyr\")\n",
    "install.packages(\"survminer\")\n",
    "BiocManager::install(\"GEOquery\")\n",
    "BiocManager::install(\"limma\")\n",
    "BiocManager::install(\"pheatmap\")\n",
    "BiocManager::install(\"org.Hs.eg.db\")\n",
    "Sys.setenv(\"VROOM_CONNECTION_SIZE\" = 131072 * 2)\n",
    "options(timeout = max(10000, getOption(\"timeout\")))\n",
    "options(warn=0)"
   ]
  },
  {
   "cell_type": "code",
   "execution_count": 4,
   "id": "99cd59d3",
   "metadata": {},
   "outputs": [],
   "source": [
    "library(GEOquery)\n",
    "setwd('Documents/')"
   ]
  },
  {
   "cell_type": "code",
   "execution_count": null,
   "id": "12ab58d2",
   "metadata": {},
   "outputs": [
    {
     "name": "stderr",
     "output_type": "stream",
     "text": [
      "Warning message:\n",
      "“One or more parsing issues, see `problems()` for details”\n",
      "\u001b[1mRows: \u001b[22m\u001b[34m274251\u001b[39m \u001b[1mColumns: \u001b[22m\u001b[34m91\u001b[39m\n",
      "\n",
      "\u001b[36m──\u001b[39m \u001b[1mColumn specification\u001b[22m \u001b[36m────────────────────────────────────────────────────────────────────────────────────────────────────────────────────────────────────────────────────────────────────────────────────────────────────────────────────\u001b[39m\n",
      "\u001b[1mDelimiter:\u001b[22m \"\\t\"\n",
      "\u001b[31mchr\u001b[39m  (1): ID_REF\n",
      "\u001b[32mdbl\u001b[39m (90): GSM5725387, GSM5725388, GSM5725389, GSM5725390, GSM5725391, GSM572...\n",
      "\n",
      "\n",
      "\u001b[36mℹ\u001b[39m Use \u001b[30m\u001b[47m\u001b[30m\u001b[47m`spec()`\u001b[47m\u001b[30m\u001b[49m\u001b[39m to retrieve the full column specification for this data.\n",
      "\u001b[36mℹ\u001b[39m Specify the column types or set \u001b[30m\u001b[47m\u001b[30m\u001b[47m`show_col_types = FALSE`\u001b[47m\u001b[30m\u001b[49m\u001b[39m to quiet this message.\n",
      "\n",
      "File stored at: \n",
      "\n",
      "/tmp/Rtmp6rzy89/GPL23976.soft\n",
      "\n"
     ]
    }
   ],
   "source": [
    "ids = c('GSE190540_series_matrix.txt.gz','GSE147040_series_matrix.txt.gz','GSE174818_series_matrix.txt.gz','GSE152204_series_matrix.txt.gz')\n",
    "gse = c()\n",
    "for (i in ids){\n",
    "    gse = append (gse,getGEO(filename = i))\n",
    "}"
   ]
  },
  {
   "cell_type": "code",
   "execution_count": null,
   "id": "eabfca7a",
   "metadata": {},
   "outputs": [],
   "source": [
    "library(dplyr)"
   ]
  },
  {
   "cell_type": "code",
   "execution_count": null,
   "id": "49262d23",
   "metadata": {},
   "outputs": [],
   "source": [
    "sampleInfo1 <- pData(gse[[1]])\n",
    "sampleInfo2 <- pData(gse[[2]])\n",
    "sampleInfo3 <- pData(gse[[3]])\n",
    "sampleInfo4 <- pData(gse[[4]])"
   ]
  },
  {
   "cell_type": "code",
   "execution_count": null,
   "id": "89a5e83a",
   "metadata": {},
   "outputs": [],
   "source": [
    "sampleInfo1[,c('age:ch1','disease status:ch1','gender:ch1')] -> sampleInfo1"
   ]
  },
  {
   "cell_type": "code",
   "execution_count": null,
   "id": "cb2ac37b",
   "metadata": {},
   "outputs": [],
   "source": [
    "colnames(sampleInfo1) = c('Age','Status','Gender')"
   ]
  },
  {
   "cell_type": "code",
   "execution_count": null,
   "id": "228dfced",
   "metadata": {},
   "outputs": [],
   "source": [
    "sampleInfo1[\"Status\"][sampleInfo1[\"Status\"] == \"Case\"] <- \"MCI\""
   ]
  },
  {
   "cell_type": "code",
   "execution_count": null,
   "id": "d1c24528",
   "metadata": {},
   "outputs": [],
   "source": [
    "sampleInfo2[,c('age at death:ch1','current smoking status:ch1','sex (m, male; f, female):ch1')] -> sampleInfo2"
   ]
  },
  {
   "cell_type": "code",
   "execution_count": null,
   "id": "e699e221",
   "metadata": {},
   "outputs": [],
   "source": [
    "colnames(sampleInfo2) = c('Age','Status','Gender')"
   ]
  },
  {
   "cell_type": "code",
   "execution_count": null,
   "id": "ec74c163",
   "metadata": {},
   "outputs": [],
   "source": [
    "sampleInfo3[,c('age:ch1','covid status:ch1','Sex:ch1')] -> sampleInfo3"
   ]
  },
  {
   "cell_type": "code",
   "execution_count": null,
   "id": "58ba800d",
   "metadata": {},
   "outputs": [],
   "source": [
    "colnames(sampleInfo3) = c('Age','Status','Gender')"
   ]
  },
  {
   "cell_type": "code",
   "execution_count": null,
   "id": "8ee70033",
   "metadata": {},
   "outputs": [],
   "source": [
    "sampleInfo3$Status = as.character(sampleInfo3$Status)"
   ]
  },
  {
   "cell_type": "code",
   "execution_count": null,
   "id": "9757ce73",
   "metadata": {},
   "outputs": [],
   "source": [
    "sampleInfo3[\"Status\"][sampleInfo3[\"Status\"] == '0'] <- \"Control\""
   ]
  },
  {
   "cell_type": "code",
   "execution_count": null,
   "id": "b1658b8c",
   "metadata": {},
   "outputs": [],
   "source": [
    "sampleInfo4[,c('epigenetic age:ch1','source_name_ch1','Sex:ch1')] -> sampleInfo4"
   ]
  },
  {
   "cell_type": "code",
   "execution_count": null,
   "id": "6b9be2d2",
   "metadata": {},
   "outputs": [],
   "source": [
    "colnames(sampleInfo4) = c('Age','Status','Gender')"
   ]
  },
  {
   "cell_type": "code",
   "execution_count": null,
   "id": "038d881b",
   "metadata": {},
   "outputs": [],
   "source": [
    "sampleInfo4[\"Status\"][sampleInfo4[\"Status\"] == 'Case'] <- \"OAV\""
   ]
  },
  {
   "cell_type": "code",
   "execution_count": null,
   "id": "8eebadf9",
   "metadata": {},
   "outputs": [],
   "source": [
    "metadata <- rbind(sampleInfo1, sampleInfo2,sampleInfo3,sampleInfo4)"
   ]
  },
  {
   "cell_type": "code",
   "execution_count": null,
   "id": "138b333d",
   "metadata": {},
   "outputs": [],
   "source": [
    "metadata$Age = as.numeric(metadata$Age)"
   ]
  },
  {
   "cell_type": "code",
   "execution_count": null,
   "id": "c74817d7",
   "metadata": {},
   "outputs": [],
   "source": [
    "metadata$Status=as.factor(metadata$Status)"
   ]
  },
  {
   "cell_type": "code",
   "execution_count": null,
   "id": "de90a3b8",
   "metadata": {},
   "outputs": [],
   "source": [
    "summary(metadata)"
   ]
  },
  {
   "cell_type": "code",
   "execution_count": null,
   "id": "dcf00ee1",
   "metadata": {},
   "outputs": [],
   "source": []
  }
 ],
 "metadata": {
  "kernelspec": {
   "display_name": "R",
   "language": "R",
   "name": "ir"
  },
  "language_info": {
   "codemirror_mode": "r",
   "file_extension": ".r",
   "mimetype": "text/x-r-source",
   "name": "R",
   "pygments_lexer": "r",
   "version": "4.0.5"
  }
 },
 "nbformat": 4,
 "nbformat_minor": 5
}
