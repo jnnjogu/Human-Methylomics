{
 "cells": [
  {
   "cell_type": "code",
   "execution_count": 1,
   "id": "27037e22",
   "metadata": {},
   "outputs": [],
   "source": [
    "#install.packages(\"BiocManager\")\n",
    "#install.packages(\"forcats\")\n",
    "#install.packages(\"stringr\")\n",
    "#install.packages(\"ggplot2\")\n",
    "#install.packages(\"ggrepel\")\n",
    "#install.packages(\"readr\")\n",
    "#install.packages(\"tidyr\")\n",
    "#install.packages(\"survminer\")\n",
    "#BiocManager::install(\"GEOquery\")\n",
    "#BiocManager::install(\"limma\")\n",
    "#BiocManager::install(\"pheatmap\")\n",
    "#BiocManager::install(\"org.Hs.eg.db\")\n",
    "Sys.setenv(\"VROOM_CONNECTION_SIZE\" = 131072 * 2)\n",
    "options(timeout = max(10000, getOption(\"timeout\")))\n",
    "options(warn=0)"
   ]
  },
  {
   "cell_type": "code",
   "execution_count": null,
   "id": "440dc211",
   "metadata": {},
   "outputs": [],
   "source": [
    "library(GEOquery)\n",
    "setwd('Documents/')"
   ]
  },
  {
   "cell_type": "code",
   "execution_count": null,
   "id": "03f6ccdf",
   "metadata": {},
   "outputs": [],
   "source": [
    "ids = c('GSE190540','GSE147040','GSE174818','GSE152204')\n",
    "gse = c()\n",
    "for (i in ids){\n",
    "    gse = append (gse,getGEO(i,destdir = '.'))\n",
    "}"
   ]
  },
  {
   "cell_type": "code",
   "execution_count": null,
   "id": "ee07f7fd",
   "metadata": {},
   "outputs": [],
   "source": [
    "library(dplyr)"
   ]
  },
  {
   "cell_type": "code",
   "execution_count": null,
   "id": "c6f2ae0e",
   "metadata": {},
   "outputs": [],
   "source": [
    "sampleInfo1 <- pData(gse[[1]])\n",
    "sampleInfo2 <- pData(gse[[2]])\n",
    "sampleInfo3 <- pData(gse[[3]])\n",
    "sampleInfo4 <- pData(gse[[4]])"
   ]
  },
  {
   "cell_type": "code",
   "execution_count": null,
   "id": "f01a2222",
   "metadata": {},
   "outputs": [],
   "source": [
    "sampleInfo1[,c('age:ch1','disease status:ch1','gender:ch1')] -> sampleInfo1"
   ]
  },
  {
   "cell_type": "code",
   "execution_count": null,
   "id": "74d1dd84",
   "metadata": {},
   "outputs": [],
   "source": [
    "colnames(sampleInfo1) = c('Age','Status','Gender')"
   ]
  },
  {
   "cell_type": "code",
   "execution_count": null,
   "id": "e19beaec",
   "metadata": {},
   "outputs": [],
   "source": [
    "sampleInfo1[\"Status\"][sampleInfo1[\"Status\"] == \"Case\"] <- \"MCI\""
   ]
  },
  {
   "cell_type": "code",
   "execution_count": null,
   "id": "8c316a35",
   "metadata": {},
   "outputs": [],
   "source": [
    "sampleInfo2[,c('age at death:ch1','current smoking status:ch1','sex (m, male; f, female):ch1')] -> sampleInfo2"
   ]
  },
  {
   "cell_type": "code",
   "execution_count": null,
   "id": "349c5ede",
   "metadata": {},
   "outputs": [],
   "source": [
    "colnames(sampleInfo2) = c('Age','Status','Gender')"
   ]
  },
  {
   "cell_type": "code",
   "execution_count": null,
   "id": "c162d816",
   "metadata": {},
   "outputs": [],
   "source": [
    "sampleInfo3[,c('age:ch1','covid status:ch1','Sex:ch1')] -> sampleInfo3"
   ]
  },
  {
   "cell_type": "code",
   "execution_count": null,
   "id": "7eb3916d",
   "metadata": {},
   "outputs": [],
   "source": [
    "colnames(sampleInfo3) = c('Age','Status','Gender')"
   ]
  },
  {
   "cell_type": "code",
   "execution_count": null,
   "id": "cd3f349d",
   "metadata": {},
   "outputs": [],
   "source": [
    "sampleInfo3$Status = as.character(sampleInfo3$Status)"
   ]
  },
  {
   "cell_type": "code",
   "execution_count": null,
   "id": "8d2e7493",
   "metadata": {},
   "outputs": [],
   "source": [
    "sampleInfo3[\"Status\"][sampleInfo3[\"Status\"] == '0'] <- \"Control\""
   ]
  },
  {
   "cell_type": "code",
   "execution_count": null,
   "id": "69d1f228",
   "metadata": {},
   "outputs": [],
   "source": [
    "sampleInfo4[,c('epigenetic age:ch1','source_name_ch1','Sex:ch1')] -> sampleInfo4"
   ]
  },
  {
   "cell_type": "code",
   "execution_count": null,
   "id": "a80fcbae",
   "metadata": {},
   "outputs": [],
   "source": [
    "colnames(sampleInfo4) = c('Age','Status','Gender')"
   ]
  },
  {
   "cell_type": "code",
   "execution_count": null,
   "id": "7eb288d6",
   "metadata": {},
   "outputs": [],
   "source": [
    "sampleInfo4[\"Status\"][sampleInfo4[\"Status\"] == 'Case'] <- \"OAV\""
   ]
  },
  {
   "cell_type": "code",
   "execution_count": null,
   "id": "9cf1e62a",
   "metadata": {},
   "outputs": [],
   "source": [
    "metadata <- rbind(sampleInfo1, sampleInfo2,sampleInfo3,sampleInfo4)"
   ]
  },
  {
   "cell_type": "code",
   "execution_count": null,
   "id": "02ebfa7c",
   "metadata": {},
   "outputs": [],
   "source": [
    "metadata$Age = as.numeric(metadata$Age)"
   ]
  },
  {
   "cell_type": "code",
   "execution_count": null,
   "id": "2e86883a",
   "metadata": {},
   "outputs": [],
   "source": [
    "metadata$Status=as.factor(metadata$Status)"
   ]
  },
  {
   "cell_type": "code",
   "execution_count": null,
   "id": "5f8d3de6",
   "metadata": {},
   "outputs": [],
   "source": [
    "summary(metadata)"
   ]
  },
  {
   "cell_type": "code",
   "execution_count": null,
   "id": "c403d082",
   "metadata": {},
   "outputs": [],
   "source": []
  }
 ],
 "metadata": {
  "kernelspec": {
   "display_name": "R",
   "language": "R",
   "name": "ir"
  },
  "language_info": {
   "codemirror_mode": "r",
   "file_extension": ".r",
   "mimetype": "text/x-r-source",
   "name": "R",
   "pygments_lexer": "r",
   "version": "4.0.5"
  }
 },
 "nbformat": 4,
 "nbformat_minor": 5
}
